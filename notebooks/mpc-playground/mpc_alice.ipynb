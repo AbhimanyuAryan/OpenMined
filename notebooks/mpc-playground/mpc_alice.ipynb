{
 "cells": [
  {
   "cell_type": "code",
   "execution_count": 1,
   "metadata": {},
   "outputs": [],
   "source": [
    "import notebook_importer"
   ]
  },
  {
   "cell_type": "code",
   "execution_count": 2,
   "metadata": {},
   "outputs": [
    {
     "name": "stdout",
     "output_type": "stream",
     "text": [
      "importing notebook from spdz.ipynb\n"
     ]
    }
   ],
   "source": [
    "import spdz\n",
    "import random\n",
    "import numpy as np\n",
    "import zmq\n",
    "import time"
   ]
  },
  {
   "cell_type": "code",
   "execution_count": 3,
   "metadata": {},
   "outputs": [],
   "source": [
    "# Alice is party 0\n",
    "party = 0\n",
    "\n",
    "# Connect to zmq\n",
    "context = zmq.Context()\n",
    "socket = context.socket(zmq.REQ)\n",
    "socket.connect (\"tcp://localhost:5555\")\n",
    "\n",
    "#TODO: tmp solution remove ASAP\n",
    "spdz.spdz_socket = socket\n",
    "spdz.socket_party = party"
   ]
  },
  {
   "cell_type": "code",
   "execution_count": 4,
   "metadata": {},
   "outputs": [],
   "source": [
    "# seed random numbers to make calculation\n",
    "# deterministic (just a good practice)\n",
    "random.seed(1)\n",
    "np.random.seed(1)\n",
    "\n",
    "# initialize weights randomly with mean 0\n",
    "syn0 = (2*np.random.random((3,1)) - 1) / 1000\n",
    "syn0_alice, syn0_bob = spdz.secure(syn0)"
   ]
  },
  {
   "cell_type": "code",
   "execution_count": 5,
   "metadata": {},
   "outputs": [
    {
     "name": "stdout",
     "output_type": "stream",
     "text": [
      "OK\n"
     ]
    }
   ],
   "source": [
    "# Alice sends initial weights to Bob\n",
    "print(spdz.swap_shares(syn0_bob, party, socket))\n",
    "\n",
    "# Alice receives X and y data from Bob\n",
    "X_alice = spdz.swap_shares(np.array(\"OK\"), party, socket)\n",
    "y_alice = spdz.swap_shares(np.array(\"OK\"), party, socket)"
   ]
  },
  {
   "cell_type": "code",
   "execution_count": null,
   "metadata": {},
   "outputs": [],
   "source": [
    "# Multiplication Test\n",
    "\n",
    "a, b = spdz.PrivateValue.secure(5)\n",
    "t = spdz.swap_shares(b, party, socket)\n",
    "res = a * t\n",
    "other = spdz.swap_shares(res, party, socket)"
   ]
  },
  {
   "cell_type": "code",
   "execution_count": 6,
   "metadata": {},
   "outputs": [
    {
     "ename": "TypeError",
     "evalue": "can only concatenate list (not \"int\") to list",
     "output_type": "error",
     "traceback": [
      "\u001b[0;31m-------------------------------------------------------------------\u001b[0m",
      "\u001b[0;31mTypeError\u001b[0m                         Traceback (most recent call last)",
      "\u001b[0;32m<ipython-input-6-dece3d66fb9e>\u001b[0m in \u001b[0;36m<module>\u001b[0;34m()\u001b[0m\n\u001b[1;32m      7\u001b[0m \u001b[0;34m\u001b[0m\u001b[0m\n\u001b[1;32m      8\u001b[0m \u001b[0mstart_time\u001b[0m \u001b[0;34m=\u001b[0m \u001b[0mtime\u001b[0m\u001b[0;34m.\u001b[0m\u001b[0mtime\u001b[0m\u001b[0;34m(\u001b[0m\u001b[0;34m)\u001b[0m\u001b[0;34m\u001b[0m\u001b[0m\n\u001b[0;32m----> 9\u001b[0;31m \u001b[0mnetwork\u001b[0m\u001b[0;34m.\u001b[0m\u001b[0mtrain\u001b[0m\u001b[0;34m(\u001b[0m\u001b[0mX_alice\u001b[0m\u001b[0;34m,\u001b[0m \u001b[0my_alice\u001b[0m\u001b[0;34m,\u001b[0m \u001b[0msyn0_alice\u001b[0m\u001b[0;34m)\u001b[0m\u001b[0;34m\u001b[0m\u001b[0m\n\u001b[0m\u001b[1;32m     10\u001b[0m \u001b[0;34m\u001b[0m\u001b[0m\n\u001b[1;32m     11\u001b[0m \u001b[0mprint\u001b[0m\u001b[0;34m(\u001b[0m\u001b[0;34m\"Elapsed Training Time:\\n\"\u001b[0m\u001b[0;34m,\u001b[0m \u001b[0mtime\u001b[0m\u001b[0;34m.\u001b[0m\u001b[0mtime\u001b[0m\u001b[0;34m(\u001b[0m\u001b[0;34m)\u001b[0m \u001b[0;34m-\u001b[0m \u001b[0mstart_time\u001b[0m\u001b[0;34m)\u001b[0m\u001b[0;34m\u001b[0m\u001b[0m\n",
      "\u001b[0;32m~/Documents/workspace/OpenMined/OpenMined/notebooks/mpc-playground/spdz.ipynb\u001b[0m in \u001b[0;36mtrain\u001b[0;34m(self, X, y, syn0, iterations, alpha)\u001b[0m\n",
      "\u001b[0;32m~/Documents/workspace/OpenMined/OpenMined/notebooks/mpc-playground/spdz.ipynb\u001b[0m in \u001b[0;36mevaluate\u001b[0;34m(self, x)\u001b[0m\n",
      "\u001b[0;32m~/Documents/workspace/OpenMined/OpenMined/notebooks/mpc-playground/spdz.ipynb\u001b[0m in \u001b[0;36msigmoid\u001b[0;34m(self, x)\u001b[0m\n",
      "\u001b[0;32m~/Documents/workspace/OpenMined/OpenMined/notebooks/mpc-playground/spdz.ipynb\u001b[0m in \u001b[0;36mdownshare\u001b[0;34m(party, socket, x)\u001b[0m\n",
      "\u001b[0;32m~/Documents/workspace/OpenMined/OpenMined/notebooks/mpc-playground/spdz.ipynb\u001b[0m in \u001b[0;36mconvert\u001b[0;34m(party, socket, x, from_field, to_field)\u001b[0m\n",
      "\u001b[0;31mTypeError\u001b[0m: can only concatenate list (not \"int\") to list"
     ]
    }
   ],
   "source": [
    "sigmoid = spdz.SigmoidInterpolated10(party, socket)\n",
    "result = sigmoid.evaluate(X_alice)\n",
    "result_bob = spdz.swap_shares(result, party, socket)\n",
    "\n",
    "network = spdz.TwoLayerNetwork(sigmoid, party, socket)\n",
    "\n",
    "start_time = time.time()\n",
    "network.train(X_alice, y_alice, syn0_alice)\n",
    "\n",
    "print(\"Elapsed Training Time:\\n\", time.time() - start_time)\n",
    "network.print_weights()\n",
    "\n",
    "preds = network.predict(X_alice)\n",
    "preds_bob = spdz.swap_shares(preds, party, socket)"
   ]
  },
  {
   "cell_type": "code",
   "execution_count": null,
   "metadata": {},
   "outputs": [],
   "source": []
  },
  {
   "cell_type": "code",
   "execution_count": null,
   "metadata": {},
   "outputs": [],
   "source": []
  }
 ],
 "metadata": {
  "kernelspec": {
   "display_name": "Python 3",
   "language": "python",
   "name": "python3"
  },
  "language_info": {
   "codemirror_mode": {
    "name": "ipython",
    "version": 3
   },
   "file_extension": ".py",
   "mimetype": "text/x-python",
   "name": "python",
   "nbconvert_exporter": "python",
   "pygments_lexer": "ipython3",
   "version": "3.6.3"
  }
 },
 "nbformat": 4,
 "nbformat_minor": 2
}
