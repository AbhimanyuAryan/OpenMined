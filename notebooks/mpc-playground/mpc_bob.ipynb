{
 "cells": [
  {
   "cell_type": "code",
   "execution_count": 1,
   "metadata": {},
   "outputs": [],
   "source": [
    "import notebook_importer"
   ]
  },
  {
   "cell_type": "code",
   "execution_count": 2,
   "metadata": {},
   "outputs": [
    {
     "name": "stdout",
     "output_type": "stream",
     "text": [
      "importing notebook from spdz.ipynb\n"
     ]
    }
   ],
   "source": [
    "import spdz\n",
    "import random\n",
    "import numpy as np\n",
    "import zmq"
   ]
  },
  {
   "cell_type": "code",
   "execution_count": 3,
   "metadata": {},
   "outputs": [],
   "source": [
    "# Bob is party 1\n",
    "party = 1\n",
    "\n",
    "# Connect to zmq\n",
    "context = zmq.Context()\n",
    "socket = context.socket(zmq.REP)\n",
    "socket.bind(\"tcp://*:5555\")\n",
    "\n",
    "#TODO: tmp solution remove ASAP\n",
    "spdz.spdz_socket = socket\n",
    "spdz.socket_party = party"
   ]
  },
  {
   "cell_type": "code",
   "execution_count": 4,
   "metadata": {},
   "outputs": [],
   "source": [
    "# Input dataset\n",
    "X = np.array([\n",
    "    [0,0,1],\n",
    "    [0,1,1],\n",
    "    [1,0,1],\n",
    "    [1,1,1]\n",
    "])\n",
    "\n",
    "# Output dataset\n",
    "y = np.array([[0,0,1,1]]).T\n",
    "\n",
    "# Split input into shares \n",
    "#X_shares = spdz.share_vec(spdz.wrap(X))\n",
    "X_alice, X_bob = spdz.secure(X)\n",
    "\n",
    "# Split output into shares\n",
    "y_alice, y_bob = spdz.secure(y)"
   ]
  },
  {
   "cell_type": "code",
   "execution_count": null,
   "metadata": {},
   "outputs": [
    {
     "name": "stdout",
     "output_type": "stream",
     "text": [
      "OK\n",
      "OK\n"
     ]
    }
   ],
   "source": [
    "# Bob receives initial weights from Alice\n",
    "syn0_bob = spdz.swap_shares(np.array(\"OK\"), party, socket)\n",
    "\n",
    "# Bob sends X and y to Alice\n",
    "print(spdz.swap_shares(X_alice, party, socket))\n",
    "print(spdz.swap_shares(y_alice, party, socket))"
   ]
  },
  {
   "cell_type": "code",
   "execution_count": null,
   "metadata": {},
   "outputs": [],
   "source": [
    "# Multiplication Test\n",
    "a, b = spdz.PrivateValue.secure(3)\n",
    "t = spdz.swap_shares(a, party, socket)\n",
    "res = t * b\n",
    "other = spdz.swap_shares(res, party, socket)\n",
    "print(spdz.decode_vec(other + res))"
   ]
  },
  {
   "cell_type": "code",
   "execution_count": null,
   "metadata": {},
   "outputs": [],
   "source": [
    "def np_sigmoid(x):\n",
    "   return 1 / (1 + np.exp(-x))\n",
    "\n",
    "sigmoid = spdz.SigmoidInterpolated10(party, socket)\n",
    "\n",
    "#Sigmoid test:\n",
    "result = sigmoid.evaluate(X_bob)\n",
    "result_alice = spdz.swap_shares(result, party, socket)\n",
    "\n",
    "print(\"sigmoid result: \")\n",
    "print(spdz.decode_vec(result_alice + result))\n",
    "\n",
    "print(\"np_sigmoid result: \")\n",
    "print(np_sigmoid(X))"
   ]
  },
  {
   "cell_type": "code",
   "execution_count": null,
   "metadata": {},
   "outputs": [],
   "source": [
    "# Train in sync with Alice\n",
    "\n",
    "network = spdz.TwoLayerNetwork(sigmoid, party, socket)\n",
    "network.train(X_bob, y_bob, syn0_bob)\n",
    "\n",
    "weights = network.print_weights()\n",
    "\n",
    "print(\"predictions: \")\n",
    "preds = network.predict(X_bob)\n",
    "preds_alice = spdz.swap_shares(preds, party, socket)\n",
    "print(spdz.decode_vec(preds_alice + preds))"
   ]
  },
  {
   "cell_type": "code",
   "execution_count": null,
   "metadata": {},
   "outputs": [],
   "source": []
  },
  {
   "cell_type": "code",
   "execution_count": null,
   "metadata": {},
   "outputs": [],
   "source": []
  }
 ],
 "metadata": {
  "kernelspec": {
   "display_name": "Python 3",
   "language": "python",
   "name": "python3"
  },
  "language_info": {
   "codemirror_mode": {
    "name": "ipython",
    "version": 3
   },
   "file_extension": ".py",
   "mimetype": "text/x-python",
   "name": "python",
   "nbconvert_exporter": "python",
   "pygments_lexer": "ipython3",
   "version": "3.6.3"
  }
 },
 "nbformat": 4,
 "nbformat_minor": 2
}
