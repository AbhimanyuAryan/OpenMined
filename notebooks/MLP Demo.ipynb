{
 "cells": [
  {
   "cell_type": "markdown",
   "metadata": {},
   "source": [
    "Demo of a single and 2 layer perceptron using numpy and pysyft\n",
    "\n",
    "Based on http://iamtrask.github.io/2015/07/12/basic-python-network/"
   ]
  },
  {
   "cell_type": "code",
   "execution_count": 1,
   "metadata": {},
   "outputs": [],
   "source": [
    "import numpy as np\n",
    "from syft.syft import FloatTensor,SyftController"
   ]
  },
  {
   "cell_type": "markdown",
   "metadata": {},
   "source": [
    "Using numpy"
   ]
  },
  {
   "cell_type": "code",
   "execution_count": 2,
   "metadata": {},
   "outputs": [
    {
     "name": "stdout",
     "output_type": "stream",
     "text": [
      "[[ 0.36532326]\n",
      " [ 0.0927639 ]\n",
      " [ 0.20277521]\n",
      " [ 0.18791128]]\n",
      "Error:  0.564423858886\n",
      "Error:  0.00795698840456\n",
      "Error:  0.00559856961191\n",
      "Error:  0.00456127190707\n",
      "Error:  0.00394508271944\n",
      "Error:  0.0035254944208\n",
      "[[ 0.00390283]\n",
      " [ 0.99681523]\n",
      " [ 0.99740412]\n",
      " [ 0.0031816 ]]\n"
     ]
    }
   ],
   "source": [
    "#4 inupts samples\n",
    "x = np.array([ [0,0,1],[1,1,1],[1,0,1],[0,1,1] ])#works\n",
    "#x = np.array([ [0,0,1],[0,1,1],[1,0,1],[1,1,1] ])#xor gate need hidden layer\n",
    "y = np.array([[0,1,1,0]]).T\n",
    "#perceprton weights\n",
    "w_initial = 2*np.random.random((len(x[0]),len(y[0]))) - 1\n",
    "#activation function\n",
    "def sigmoid(x,deriv=False):\n",
    "    if(deriv==True):\n",
    "        return x*(1-x)#the derivative is sigmoid(sigmoid(x),1)\n",
    "    return 1/(1+np.exp(-x))\n",
    "#predicted y pre training\n",
    "print(sigmoid(np.dot(x,w_initial)))\n",
    "#training\n",
    "w = w_initial.copy()\n",
    "for j in range(60000):\n",
    "    l1 = sigmoid(np.dot(x,w))\n",
    "    l1_delta = (y - l1)*sigmoid(l1,1)\n",
    "    w += x.T.dot(l1_delta)\n",
    "    if j%10000 == 0:\n",
    "        print(\"Error: \",np.average(np.abs((y - l1))))\n",
    "#predicted y post training\n",
    "print( l1 )"
   ]
  },
  {
   "cell_type": "markdown",
   "metadata": {},
   "source": [
    "Using pysyft"
   ]
  },
  {
   "cell_type": "code",
   "execution_count": 3,
   "metadata": {},
   "outputs": [],
   "source": [
    "# connect to unity\n",
    "identity = 'worker-0'\n",
    "sc = SyftController(identity)"
   ]
  },
  {
   "cell_type": "markdown",
   "metadata": {},
   "source": [
    "put data into openmined"
   ]
  },
  {
   "cell_type": "code",
   "execution_count": 25,
   "metadata": {},
   "outputs": [
    {
     "name": "stdout",
     "output_type": "stream",
     "text": [
      "FloatTensor.__init__: 12\n",
      "FloatTensor.__init__: 13\n",
      "FloatTensor.__init__: 14\n",
      "FloatTensor.__init__: 15\n"
     ]
    }
   ],
   "source": [
    "X = sc.FloatTensor( x )\n",
    "Y = sc.FloatTensor( y )\n",
    "W = sc.FloatTensor( w_initial )\n",
    "helper = sc.FloatTensor(np.array([[0,0,0,0]]).T)#needed as we don't have mm yet"
   ]
  },
  {
   "cell_type": "code",
   "execution_count": 5,
   "metadata": {},
   "outputs": [],
   "source": [
    "#X.gpu()\n",
    "#Y.gpu()\n",
    "#W.gpu()"
   ]
  },
  {
   "cell_type": "code",
   "execution_count": null,
   "metadata": {},
   "outputs": [],
   "source": [
    "Functions needed:\n",
    "    - sub\n",
    "    - mul\n",
    "    - sigmoid_\n",
    "    - average"
   ]
  },
  {
   "cell_type": "code",
   "execution_count": 7,
   "metadata": {},
   "outputs": [
    {
     "data": {
      "text/plain": [
       "-0.9997712,\t\n",
       "-0.5591223,\t\n",
       "-0.1657273,\t\n",
       "0.2749218,\t\n"
      ]
     },
     "execution_count": 7,
     "metadata": {},
     "output_type": "execute_result"
    }
   ],
   "source": [
    "#predicted pre training\n",
    "print(X.mm(W).sigmoid())\n",
    "#training\n",
    "for j in range(10):\n",
    "    l1 = helper.addmm(x,w)\n",
    "    l1.sigmoid_()\n",
    "    l1_delta = (y + l1.neg())*(l1*(1-l1.neg()))\n",
    "    w.addmm_(x.T,l1_delta)\n",
    "    if j%1 == 0:\n",
    "        print(\"Error: \",(y + l1.neg()).abs().average())\n",
    "#predicted y post training\n",
    "print( l1 )"
   ]
  }
 ],
 "metadata": {
  "kernelspec": {
   "display_name": "Python 3",
   "language": "python",
   "name": "python3"
  },
  "language_info": {
   "codemirror_mode": {
    "name": "ipython",
    "version": 3
   },
   "file_extension": ".py",
   "mimetype": "text/x-python",
   "name": "python",
   "nbconvert_exporter": "python",
   "pygments_lexer": "ipython3",
   "version": "3.6.2"
  }
 },
 "nbformat": 4,
 "nbformat_minor": 2
}
