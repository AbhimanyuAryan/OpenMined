{
 "cells": [
  {
   "cell_type": "markdown",
   "metadata": {},
   "source": [
    "Demo of a single and 2 layer perceptron using numpy and pysyft\n",
    "\n",
    "Based on http://iamtrask.github.io/2015/07/12/basic-python-network/"
   ]
  },
  {
   "cell_type": "code",
   "execution_count": 1,
   "metadata": {},
   "outputs": [],
   "source": [
    "import numpy as np\n",
    "from syft.syft import FloatTensor,SyftController"
   ]
  },
  {
   "cell_type": "markdown",
   "metadata": {},
   "source": [
    "Using numpy"
   ]
  },
  {
   "cell_type": "code",
   "execution_count": 3,
   "metadata": {},
   "outputs": [
    {
     "name": "stdout",
     "output_type": "stream",
     "text": [
      "[[ 0.55120158]\n",
      " [ 0.67557997]\n",
      " [ 0.5752133 ]\n",
      " [ 0.6538273 ]]\n",
      "Error:  0.48855890289\n",
      "[[ 0.55120158]\n",
      " [ 0.67557997]\n",
      " [ 0.5752133 ]\n",
      " [ 0.6538273 ]]\n"
     ]
    }
   ],
   "source": [
    "#4 inupts samples\n",
    "x = np.array([ [0,0,1],[1,1,1],[1,0,1],[0,1,1] ])#works\n",
    "#x = np.array([ [0,0,1],[0,1,1],[1,0,1],[1,1,1] ])#xor gate need hidden layer\n",
    "y = np.array([[0,1,1,0]]).T\n",
    "#perceprton weights\n",
    "np.random.seed(0)\n",
    "w_initial = 2*np.random.random((len(x[0]),len(y[0]))) - 1\n",
    "#activation function\n",
    "def sigmoid(x,deriv=False):\n",
    "    if(deriv==True):\n",
    "        return x*(1-x)#the derivative is sigmoid(sigmoid(x),1)\n",
    "    return 1/(1+np.exp(-x))\n",
    "#predicted y pre training\n",
    "print(sigmoid(np.dot(x,w_initial)))\n",
    "#training\n",
    "w = w_initial.copy()\n",
    "#for j in range(60000):\n",
    "for j in range(1):\n",
    "    l1 = sigmoid(np.dot(x,w))\n",
    "    l1_delta = (y - l1)*sigmoid(l1,1)\n",
    "    w += x.T.dot(l1_delta)\n",
    "    if j%10000 == 0:\n",
    "        print(\"Error: \",np.average(np.abs((y - l1))))\n",
    "#predicted y post training\n",
    "print( l1 )"
   ]
  },
  {
   "cell_type": "markdown",
   "metadata": {},
   "source": [
    "Using pysyft"
   ]
  },
  {
   "cell_type": "code",
   "execution_count": 4,
   "metadata": {},
   "outputs": [],
   "source": [
    "# connect to unity\n",
    "identity = 'worker-0'\n",
    "sc = SyftController(identity)"
   ]
  },
  {
   "cell_type": "markdown",
   "metadata": {},
   "source": [
    "put data into openmined"
   ]
  },
  {
   "cell_type": "code",
   "execution_count": 18,
   "metadata": {},
   "outputs": [
    {
     "name": "stdout",
     "output_type": "stream",
     "text": [
      "FloatTensor.__init__: 34\n",
      "FloatTensor.__init__: 35\n",
      "FloatTensor.__init__: 36\n",
      "FloatTensor.__init__: 37\n",
      "FloatTensor.__init__: 38\n",
      "FloatTensor.__init__: 39\n",
      "FloatTensor.__init__: 40\n",
      "FloatTensor.__init__: 41\n"
     ]
    }
   ],
   "source": [
    "X = sc.FloatTensor( x )\n",
    "Y = sc.FloatTensor( y )\n",
    "W_initial = sc.FloatTensor( w_initial )\n",
    "W = sc.FloatTensor( w_initial )\n",
    "zeros = sc.FloatTensor(np.array([[0,0,0,0]]).T)#needed as we don't have mm yet\n",
    "ones = sc.FloatTensor(np.array([[1,1,1,1]]).T)#needed as we don't deriv of sigmoid yet\n",
    "mean = sc.FloatTensor(np.array([[1/4,1/4,1/4,1/4]]))#hack to calculate mean\n",
    "zero = sc.FloatTensor(np.array([[0]]))#also for mean"
   ]
  },
  {
   "cell_type": "code",
   "execution_count": 19,
   "metadata": {},
   "outputs": [],
   "source": [
    "#X.gpu()\n",
    "#Y.gpu()\n",
    "#W.gpu()"
   ]
  },
  {
   "cell_type": "code",
   "execution_count": 20,
   "metadata": {},
   "outputs": [
    {
     "name": "stdout",
     "output_type": "stream",
     "text": [
      "FloatTensor.__init__: 42\n",
      "0.5512016,\t\n",
      "0.67558,\t\n",
      "0.5752133,\t\n",
      "0.6538273,\t\n",
      "\n",
      "\n",
      "FloatTensor.__init__: 43\n",
      "FloatTensor.__init__: 44\n",
      "FloatTensor.__init__: 45\n",
      "FloatTensor.__init__: 46\n",
      "FloatTensor.__init__: 47\n",
      "FloatTensor.__init__: 48\n",
      "FloatTensor.__init__: 49\n",
      "FloatTensor.__init__: 50\n",
      "Error:  0.4885589,\t\n",
      "\n",
      "\n",
      "[[ 0.55120158]\n",
      " [ 0.67557997]\n",
      " [ 0.5752133 ]\n",
      " [ 0.6538273 ]]\n"
     ]
    }
   ],
   "source": [
    "#predicted pre training\n",
    "predition=zeros.addmm(X,W)\n",
    "predition.sigmoid_()\n",
    "print(predition)\n",
    "#training\n",
    "for j in range(1):\n",
    "    L1 = zeros.addmm(X,W)\n",
    "    L1.sigmoid_()\n",
    "    L1_delta = (Y - L1)*(L1*(ones-L1))\n",
    "    W.addmm_(X.T(),L1_delta)\n",
    "    if j%1 == 0:\n",
    "        err = (Y - L1)\n",
    "        err.abs_()\n",
    "        print(\"Error: \",zero.addmm(mean,err))\n",
    "#predicted y post training\n",
    "print( l1 )"
   ]
  },
  {
   "cell_type": "code",
   "execution_count": 22,
   "metadata": {},
   "outputs": [
    {
     "data": {
      "text/plain": [
       "(array([[ 0.09762701],\n",
       "        [ 0.43037873],\n",
       "        [ 0.20552675]]), 0.09762701,\t\n",
       " 0.4303787,\t\n",
       " 0.2055268,\t\n",
       " )"
      ]
     },
     "execution_count": 22,
     "metadata": {},
     "output_type": "execute_result"
    }
   ],
   "source": [
    "w_initial,W_initial"
   ]
  },
  {
   "cell_type": "code",
   "execution_count": 9,
   "metadata": {},
   "outputs": [
    {
     "data": {
      "text/plain": [
       "(array([[ 0.55120158],\n",
       "        [ 0.67557997],\n",
       "        [ 0.5752133 ],\n",
       "        [ 0.6538273 ]]), 0.5512016,\t\n",
       " 0.67558,\t\n",
       " 0.5752133,\t\n",
       " 0.6538273,\t\n",
       " )"
      ]
     },
     "execution_count": 9,
     "metadata": {},
     "output_type": "execute_result"
    }
   ],
   "source": [
    "l1,L1"
   ]
  },
  {
   "cell_type": "code",
   "execution_count": 10,
   "metadata": {},
   "outputs": [
    {
     "data": {
      "text/plain": [
       "(array([[-0.13635536],\n",
       "        [ 0.07110368],\n",
       "        [ 0.10379364],\n",
       "        [-0.14798542]]), -0.1363554,\t\n",
       " 0.07110368,\t\n",
       " 0.1037936,\t\n",
       " -0.1479854,\t\n",
       " )"
      ]
     },
     "execution_count": 10,
     "metadata": {},
     "output_type": "execute_result"
    }
   ],
   "source": [
    "l1_delta,L1_delta"
   ]
  },
  {
   "cell_type": "code",
   "execution_count": 25,
   "metadata": {},
   "outputs": [
    {
     "data": {
      "text/plain": [
       "(array([[0, 0, 1],\n",
       "        [1, 1, 1],\n",
       "        [1, 0, 1],\n",
       "        [0, 1, 1]]), 0,\t0,\t1,\t\n",
       " 1,\t1,\t1,\t\n",
       " 1,\t0,\t1,\t\n",
       " 0,\t1,\t1,\t\n",
       " )"
      ]
     },
     "execution_count": 25,
     "metadata": {},
     "output_type": "execute_result"
    }
   ],
   "source": [
    "x,X"
   ]
  },
  {
   "cell_type": "markdown",
   "metadata": {},
   "source": [
    "Above all ok, but below should be the same also. Why not?\n",
    "Code is \n",
    "    w += x.T.dot(l1_delta)\n",
    "    W.addmm_(X.T(),L1_delta)"
   ]
  },
  {
   "cell_type": "code",
   "execution_count": 24,
   "metadata": {},
   "outputs": [
    {
     "data": {
      "text/plain": [
       "(array([[ 0.27252433],\n",
       "        [ 0.353497  ],\n",
       "        [ 0.09608329]]), 0.05343522,\t\n",
       " 0.4689207,\t\n",
       " 0.02497962,\t\n",
       " )"
      ]
     },
     "execution_count": 24,
     "metadata": {},
     "output_type": "execute_result"
    }
   ],
   "source": [
    "w,W"
   ]
  }
 ],
 "metadata": {
  "kernelspec": {
   "display_name": "Python 3",
   "language": "python",
   "name": "python3"
  },
  "language_info": {
   "codemirror_mode": {
    "name": "ipython",
    "version": 3
   },
   "file_extension": ".py",
   "mimetype": "text/x-python",
   "name": "python",
   "nbconvert_exporter": "python",
   "pygments_lexer": "ipython3",
   "version": "3.6.2"
  }
 },
 "nbformat": 4,
 "nbformat_minor": 2
}
