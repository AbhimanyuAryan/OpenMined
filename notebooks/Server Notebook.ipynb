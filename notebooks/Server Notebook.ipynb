{
 "cells": [
  {
   "cell_type": "code",
   "execution_count": 1,
   "metadata": {
    "collapsed": true
   },
   "outputs": [],
   "source": [
    "import numpy as np\n",
    "import zmq\n",
    "import time\n",
    "import random"
   ]
  },
  {
   "cell_type": "code",
   "execution_count": 2,
   "metadata": {
    "collapsed": true
   },
   "outputs": [],
   "source": [
    "class FloatTensor():\n",
    "    \n",
    "    def __init__(self, data, controller):\n",
    "        \n",
    "        self.controller = controller\n",
    "        self.data = data\n",
    "        \n",
    "        message = '0'\n",
    "        \n",
    "        for x in data:\n",
    "            message += \" \" + str(x)\n",
    "        print(\"Send: \" + message)\n",
    "            \n",
    "        self.controller.socket.send_string(message)\n",
    "        response = sc.socket.recv_string()\n",
    "        print(\"Response: \" + str(response))\n",
    "        \n",
    "class SyftController():\n",
    "    \n",
    "    def __init__(self):\n",
    "        context = zmq.Context()\n",
    "        self.socket = context.socket(zmq.REQ)\n",
    "        self.socket.connect(\"tcp://localhost:5555\")\n",
    "    \n",
    "    def FloatTensor(self,data):\n",
    "        return FloatTensor(data,self)\n",
    "    \n",
    "    def Multiply(self,factor):\n",
    "\n",
    "        message = '1 0 0 ' + str(factor);\n",
    "        \n",
    "        print(\"Send: \" + message)\n",
    "        \n",
    "        self.socket.send_string(message)\n",
    "        response = self.socket.recv_string()\n",
    "        print(\"Response: \" + str(response))\n",
    "        \n",
    "    def Subtract(self):\n",
    "\n",
    "        message = '1 0 1 1';\n",
    "        \n",
    "        print(\"Send: \" + message)\n",
    "        \n",
    "        self.socket.send_string(message)\n",
    "        response = self.socket.recv_string()\n",
    "        print(\"Response: \" + str(response))\n",
    "    \n"
   ]
  },
  {
   "cell_type": "code",
   "execution_count": 3,
   "metadata": {},
   "outputs": [],
   "source": [
    "sc = SyftController()"
   ]
  },
  {
   "cell_type": "code",
   "execution_count": 4,
   "metadata": {
    "collapsed": true
   },
   "outputs": [],
   "source": [
    "d = {\"objectType\":\"tensor\",\"objectIndex\":0,\"functionCall\":\"exp\"}"
   ]
  },
  {
   "cell_type": "code",
   "execution_count": 5,
   "metadata": {},
   "outputs": [],
   "source": [
    "sc.socket.send_json(d)"
   ]
  },
  {
   "cell_type": "code",
   "execution_count": null,
   "metadata": {},
   "outputs": [],
   "source": [
    "sc.socket.recv_string()"
   ]
  },
  {
   "cell_type": "code",
   "execution_count": null,
   "metadata": {
    "collapsed": true
   },
   "outputs": [],
   "source": []
  },
  {
   "cell_type": "code",
   "execution_count": null,
   "metadata": {
    "collapsed": true
   },
   "outputs": [],
   "source": []
  },
  {
   "cell_type": "code",
   "execution_count": 7,
   "metadata": {},
   "outputs": [],
   "source": [
    "# sc.socket.recv_json()"
   ]
  },
  {
   "cell_type": "code",
   "execution_count": null,
   "metadata": {},
   "outputs": [
    {
     "name": "stdout",
     "output_type": "stream",
     "text": [
      "Send: 0 5 10 15 20\n"
     ]
    }
   ],
   "source": [
    "t = sc.FloatTensor(np.array([5,10,15,20]))"
   ]
  },
  {
   "cell_type": "code",
   "execution_count": 6,
   "metadata": {},
   "outputs": [],
   "source": []
  },
  {
   "cell_type": "code",
   "execution_count": 9,
   "metadata": {
    "collapsed": true
   },
   "outputs": [],
   "source": []
  },
  {
   "cell_type": "code",
   "execution_count": 5,
   "metadata": {},
   "outputs": [
    {
     "name": "stdout",
     "output_type": "stream",
     "text": [
      "Send: 1 0 0 5\n",
      "Response: OK\n"
     ]
    }
   ],
   "source": [
    "sc.Multiply(5)"
   ]
  },
  {
   "cell_type": "code",
   "execution_count": 6,
   "metadata": {},
   "outputs": [
    {
     "name": "stdout",
     "output_type": "stream",
     "text": [
      "Send: 0 2 4 6 8\n",
      "Response: OK\n"
     ]
    }
   ],
   "source": [
    "t2 = sc.FloatTensor(np.array([2,4,6,8]))"
   ]
  },
  {
   "cell_type": "code",
   "execution_count": 7,
   "metadata": {},
   "outputs": [
    {
     "name": "stdout",
     "output_type": "stream",
     "text": [
      "Send: 1 0 1 1\n",
      "Response: OK\n"
     ]
    }
   ],
   "source": [
    "sc.Subtract()"
   ]
  },
  {
   "cell_type": "code",
   "execution_count": null,
   "metadata": {
    "collapsed": true
   },
   "outputs": [],
   "source": []
  }
 ],
 "metadata": {
  "kernelspec": {
   "display_name": "Python 3",
   "language": "python",
   "name": "python3"
  },
  "language_info": {
   "codemirror_mode": {
    "name": "ipython",
    "version": 3
   },
   "file_extension": ".py",
   "mimetype": "text/x-python",
   "name": "python",
   "nbconvert_exporter": "python",
   "pygments_lexer": "ipython3",
   "version": "3.6.1"
  }
 },
 "nbformat": 4,
 "nbformat_minor": 2
}
