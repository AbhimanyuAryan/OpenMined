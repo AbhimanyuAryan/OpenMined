{
 "cells": [
  {
   "cell_type": "code",
   "execution_count": 1,
   "metadata": {},
   "outputs": [],
   "source": [
    "import numpy as np\n",
    "import zmq\n",
    "from random import choice"
   ]
  },
  {
   "cell_type": "code",
   "execution_count": 2,
   "metadata": {},
   "outputs": [],
   "source": [
    "class FloatTensor():\n",
    "    \n",
    "    def __init__(self, controller, data, shape):\n",
    "        \n",
    "        self.controller = controller\n",
    "        self.data = data\n",
    "        self.shape = shape\n",
    "        \n",
    "        controller.socket.send_json({\"functionCall\":\"createTensor\", \"data\": data, \"shape\": shape})\n",
    "        \n",
    "        self.id = int(controller.socket.recv_string())\n",
    "        \n",
    "        print(\"FloatTensor.__init__: \" +  str(self.id))\n",
    "    \n",
    "    def init_sigmoid_matrix_multiply(self, tensor_1):\n",
    "        \n",
    "        self.controller.socket.send_json({\"functionCall\":\"init_sigmoid_matrix_multiply\",\"objectType\":\"tensor\",\"objectIndex\":self.id,\"tensorIndexParams\":[tensor_1.id]})\n",
    "        return self.controller.socket.recv_string()\n",
    "    \n",
    "    def init_add_matrix_multiply(self, tensor_1):\n",
    "        \n",
    "        self.controller.socket.send_json({\"functionCall\":\"init_add_matrix_multiply\",\"objectType\":\"tensor\",\"objectIndex\":self.id,\"tensorIndexParams\":[tensor_1.id]})\n",
    "        return self.controller.socket.recv_string()\n",
    "    \n",
    "    def init_weights(self, tensor_1):\n",
    "        \n",
    "        self.controller.socket.send_json({\"functionCall\":\"init_weights\",\"objectType\":\"tensor\",\"objectIndex\":self.id,\"tensorIndexParams\":[tensor_1.id]})\n",
    "        return self.controller.socket.recv_string()\n",
    "    \n",
    "    def sigmoid_matrix_multiply(self, tensor_1, tensor_2):\n",
    "        \n",
    "        self.controller.socket.send_json({\"functionCall\":\"sigmoid_matrix_multiply\",\"objectType\":\"tensor\",\"objectIndex\":self.id,\"tensorIndexParams\":[tensor_1.id, tensor_2.id]})\n",
    "        return self.controller.socket.recv_string()\n",
    "    \n",
    "    def reset_weights(self):\n",
    "        \n",
    "        self.controller.socket.send_json({\"functionCall\":\"reset_weights\",\"objectType\":\"tensor\",\"objectIndex\":self.id})\n",
    "        return self.controller.socket.recv_string()\n",
    "    \n",
    "    def inline_elementwise_subtract(self, tensor_1):\n",
    "        \n",
    "        self.controller.socket.send_json({\"functionCall\":\"inline_elementwise_subtract\",\"objectType\":\"tensor\",\"objectIndex\":self.id,\"tensorIndexParams\":[tensor_1.id]})\n",
    "        return self.controller.socket.recv_string()\n",
    "    \n",
    "    def multiply_derivative(self, tensor_1):\n",
    "        \n",
    "        self.controller.socket.send_json({\"functionCall\":\"multiply_derivative\",\"objectType\":\"tensor\",\"objectIndex\":self.id,\"tensorIndexParams\":[tensor_1.id]})\n",
    "        return self.controller.socket.recv_string()\n",
    "    \n",
    "    def add_matrix_multiply(self, tensor_1, tensor_2):\n",
    "        \n",
    "        self.controller.socket.send_json({\"functionCall\":\"add_matrix_multiply\",\"objectType\":\"tensor\",\"objectIndex\":self.id,\"tensorIndexParams\":[tensor_1.id, tensor_2.id]})\n",
    "        return self.controller.socket.recv_string()\n",
    "    \n",
    "    def print(self):\n",
    "        \n",
    "        self.controller.socket.send_json({\"functionCall\":\"print\",\"objectType\":\"tensor\",\"objectIndex\":self.id})\n",
    "        print(self.controller.socket.recv_string())\n",
    "    \n",
    "class SyftController():\n",
    "    \n",
    "    def __init__(self, identity):\n",
    "        \n",
    "        self.identity = identity\n",
    "        \n",
    "        context = zmq.Context()\n",
    "        self.socket = context.socket(zmq.DEALER)\n",
    "        self.socket.setsockopt_string(zmq.IDENTITY, identity)\n",
    "        self.socket.connect(\"tcp://localhost:5555\")\n",
    "    \n",
    "    def FloatTensor(self,data,shape):\n",
    "        return FloatTensor(self,data,shape)\n"
   ]
  },
  {
   "cell_type": "code",
   "execution_count": 3,
   "metadata": {},
   "outputs": [],
   "source": [
    "# connect\n",
    "identity = 'worker-%d' % (choice([0,1,2,3,4,5,6,7,8,9]))\n",
    "sc = SyftController(identity)"
   ]
  },
  {
   "cell_type": "code",
   "execution_count": 4,
   "metadata": {},
   "outputs": [
    {
     "name": "stdout",
     "output_type": "stream",
     "text": [
      "FloatTensor.__init__: 0\n",
      "FloatTensor.__init__: 1\n",
      "FloatTensor.__init__: 2\n",
      "FloatTensor.__init__: 3\n",
      "FloatTensor.__init__: 4\n"
     ]
    }
   ],
   "source": [
    "# create tensors\n",
    "\n",
    "l0_tensor = sc.FloatTensor([0,0,1,0,1,1,1,0,1,1,1,1], [3,3,3,3])\n",
    "\n",
    "l1_tensor = sc.FloatTensor([0,0,0,0], [4])\n",
    "\n",
    "np.random.seed(1)\n",
    "syn0 = 2*np.random.random((3)) - 1\n",
    "syn0_tensor = sc.FloatTensor(syn0.tolist(), [3])\n",
    "\n",
    "l1_error_tensor = sc.FloatTensor([0,0,1,1], [4])\n",
    "\n",
    "save_error_tensor = sc.FloatTensor([0,0,1,1], [4])"
   ]
  },
  {
   "cell_type": "code",
   "execution_count": 5,
   "metadata": {},
   "outputs": [
    {
     "data": {
      "text/plain": [
       "'init_weights: OK'"
      ]
     },
     "execution_count": 5,
     "metadata": {},
     "output_type": "execute_result"
    }
   ],
   "source": [
    "# init\n",
    "\n",
    "l0_tensor.init_sigmoid_matrix_multiply(l0_tensor)\n",
    "\n",
    "syn0_tensor.init_add_matrix_multiply (l0_tensor)\n",
    "\n",
    "l1_error_tensor.init_weights (save_error_tensor)"
   ]
  },
  {
   "cell_type": "code",
   "execution_count": 6,
   "metadata": {},
   "outputs": [],
   "source": [
    "# train\n",
    "\n",
    "for iter in range(100):\n",
    "    \n",
    "    l1_tensor.sigmoid_matrix_multiply (l0_tensor, syn0_tensor)\n",
    "\n",
    "    l1_error_tensor.reset_weights ()\n",
    "\n",
    "    l1_error_tensor.inline_elementwise_subtract (l1_tensor)\n",
    "\n",
    "    l1_error_tensor.multiply_derivative (l1_tensor)\n",
    "\n",
    "    syn0_tensor.add_matrix_multiply (l0_tensor, l1_error_tensor)\n"
   ]
  },
  {
   "cell_type": "code",
   "execution_count": 7,
   "metadata": {},
   "outputs": [
    {
     "name": "stdout",
     "output_type": "stream",
     "text": [
      "Output After Training:\n",
      "0.1103504, 0.09193923, 0.9256488, 0.9104123\n",
      "Weights After Training:\n",
      "4.621287, -0.2033847, -2.093253\n"
     ]
    }
   ],
   "source": [
    "# results\n",
    "\n",
    "print (\"Output After Training:\")\n",
    "l1_tensor.print()\n",
    "print (\"Weights After Training:\")\n",
    "syn0_tensor.print()"
   ]
  },
  {
   "cell_type": "code",
   "execution_count": null,
   "metadata": {},
   "outputs": [],
   "source": []
  },
  {
   "cell_type": "code",
   "execution_count": null,
   "metadata": {},
   "outputs": [],
   "source": []
  }
 ],
 "metadata": {
  "kernelspec": {
   "display_name": "openmined",
   "language": "python",
   "name": "openmined"
  },
  "language_info": {
   "codemirror_mode": {
    "name": "ipython",
    "version": 3
   },
   "file_extension": ".py",
   "mimetype": "text/x-python",
   "name": "python",
   "nbconvert_exporter": "python",
   "pygments_lexer": "ipython3",
   "version": "3.6.2"
  }
 },
 "nbformat": 4,
 "nbformat_minor": 2
}
