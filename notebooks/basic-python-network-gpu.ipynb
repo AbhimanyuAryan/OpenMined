{
 "cells": [
  {
   "cell_type": "code",
   "execution_count": 1,
   "metadata": {},
   "outputs": [],
   "source": [
    "import numpy as np\n",
    "import zmq\n",
    "from random import choice"
   ]
  },
  {
   "cell_type": "code",
   "execution_count": 2,
   "metadata": {},
   "outputs": [
    {
     "data": {
      "text/plain": [
       "'worker-6'"
      ]
     },
     "execution_count": 2,
     "metadata": {},
     "output_type": "execute_result"
    }
   ],
   "source": [
    "# connect\n",
    "\n",
    "context = zmq.Context()\n",
    "socket = context.socket(zmq.DEALER)\n",
    "identity = 'worker-%d' % (choice([0,1,2,3,4,5,6,7,8,9]))\n",
    "socket.setsockopt_string(zmq.IDENTITY, identity)\n",
    "socket.connect(\"tcp://localhost:5555\")\n",
    "identity"
   ]
  },
  {
   "cell_type": "code",
   "execution_count": 3,
   "metadata": {},
   "outputs": [
    {
     "data": {
      "text/plain": [
       "'createTensor: OK'"
      ]
     },
     "execution_count": 3,
     "metadata": {},
     "output_type": "execute_result"
    }
   ],
   "source": [
    "# create tensors\n",
    "\n",
    "# 0 tensors.Add (l0_tensor);\n",
    "socket.send_json({\"functionCall\":\"createTensor\", \"data\": [0,0,1,0,1,1,1,0,1,1,1,1], \"shape\": [3,3,3,3]})\n",
    "socket.recv_string()\n",
    "\n",
    "# 1 tensors.Add (l1_tensor);\n",
    "socket.send_json({\"functionCall\":\"createTensor\", \"data\": [0,0,0,0], \"shape\": [4]})\n",
    "socket.recv_string()\n",
    "\n",
    "# 2 tensors.Add (syn0_tensor);\n",
    "np.random.seed(1)\n",
    "syn0 = 2*np.random.random((3)) - 1\n",
    "socket.send_json({\"functionCall\":\"createTensor\", \"data\": syn0.tolist(), \"shape\": [3]})\n",
    "socket.recv_string()\n",
    "\n",
    "# 3 tensors.Add (l1_error_tensor);\n",
    "socket.send_json({\"functionCall\":\"createTensor\", \"data\": [0,0,1,1], \"shape\": [4]})\n",
    "socket.recv_string()\n",
    "\n",
    "# 4 tensors.Add (save_error_tensor);\n",
    "socket.send_json({\"functionCall\":\"createTensor\", \"data\": [0,0,1,1], \"shape\": [4]})\n",
    "socket.recv_string()"
   ]
  },
  {
   "cell_type": "code",
   "execution_count": 4,
   "metadata": {},
   "outputs": [
    {
     "data": {
      "text/plain": [
       "'init_weights: OK'"
      ]
     },
     "execution_count": 4,
     "metadata": {},
     "output_type": "execute_result"
    }
   ],
   "source": [
    "# init\n",
    "\n",
    "# l1_tensor.init_sigmoid_matrix_multiply (l0_tensor);\n",
    "tensorIndex = 1\n",
    "tensorIndexParams = [0]\n",
    "d = {\"functionCall\":\"init_sigmoid_matrix_multiply\",\"objectType\":\"tensor\",\"objectIndex\":tensorIndex,\"tensorIndexParams\":tensorIndexParams}\n",
    "socket.send_json(d)\n",
    "socket.recv_string()\n",
    "\n",
    "# syn0_tensor.init_add_matrix_multiply (l0_tensor);\n",
    "tensorIndex = 2\n",
    "tensorIndexParams = [0]\n",
    "d = {\"functionCall\":\"init_add_matrix_multiply\",\"objectType\":\"tensor\",\"objectIndex\":tensorIndex,\"tensorIndexParams\":tensorIndexParams}\n",
    "socket.send_json(d)\n",
    "socket.recv_string()\n",
    "\n",
    "# l1_error_tensor.init_weights (save_error_tensor);\n",
    "tensorIndex = 3\n",
    "tensorIndexParams = [4]\n",
    "d = {\"functionCall\":\"init_weights\",\"objectType\":\"tensor\",\"objectIndex\":tensorIndex,\"tensorIndexParams\":tensorIndexParams}\n",
    "socket.send_json(d)\n",
    "socket.recv_string()"
   ]
  },
  {
   "cell_type": "code",
   "execution_count": 5,
   "metadata": {},
   "outputs": [],
   "source": [
    "# train\n",
    "\n",
    "for iter in range(100):\n",
    "    \n",
    "    # l1_tensor.sigmoid_matrix_multiply (l0_tensor, syn0_tensor);\n",
    "    tensorIndex = 1\n",
    "    tensorIndexParams = [0, 2]\n",
    "    d = {\"functionCall\":\"sigmoid_matrix_multiply\",\"objectType\":\"tensor\",\"objectIndex\":tensorIndex,\"tensorIndexParams\":tensorIndexParams}\n",
    "    socket.send_json(d)\n",
    "    socket.recv_string()\n",
    "    \n",
    "    # l1_error_tensor.reset_weights ();\n",
    "    tensorIndex = 3\n",
    "    d = {\"functionCall\":\"reset_weights\",\"objectType\":\"tensor\",\"objectIndex\":tensorIndex}\n",
    "    socket.send_json(d)\n",
    "    socket.recv_string()\n",
    "    \n",
    "    # l1_error_tensor.inline_elementwise_subtract (l1_tensor);\n",
    "    tensorIndex = 3\n",
    "    tensorIndexParams = [1]\n",
    "    d = {\"functionCall\":\"inline_elementwise_subtract\",\"objectType\":\"tensor\",\"objectIndex\":tensorIndex,\"tensorIndexParams\":tensorIndexParams}\n",
    "    socket.send_json(d)\n",
    "    socket.recv_string()\n",
    "    \n",
    "    # l1_error_tensor.multiply_derivative (l1_tensor);\n",
    "    tensorIndex = 3\n",
    "    tensorIndexParams = [1]\n",
    "    d = {\"functionCall\":\"multiply_derivative\",\"objectType\":\"tensor\",\"objectIndex\":tensorIndex,\"tensorIndexParams\":tensorIndexParams}\n",
    "    socket.send_json(d)\n",
    "    socket.recv_string()\n",
    "    \n",
    "    # syn0_tensor.add_matrix_multiply (l0_tensor, l1_error_tensor);\n",
    "    tensorIndex = 2\n",
    "    tensorIndexParams = [0, 3]\n",
    "    d = {\"functionCall\":\"add_matrix_multiply\",\"objectType\":\"tensor\",\"objectIndex\":tensorIndex,\"tensorIndexParams\":tensorIndexParams}\n",
    "    socket.send_json(d)\n",
    "    socket.recv_string()"
   ]
  },
  {
   "cell_type": "code",
   "execution_count": 6,
   "metadata": {},
   "outputs": [
    {
     "name": "stdout",
     "output_type": "stream",
     "text": [
      "Output After Training:\n",
      "0.1103504, 0.09193923, 0.9256488, 0.9104123\n",
      "Weights After Training:\n",
      "4.621287, -0.2033847, -2.093253\n"
     ]
    }
   ],
   "source": [
    "# results\n",
    "\n",
    "print (\"Output After Training:\")\n",
    "socket.send_json({\"functionCall\":\"print\",\"objectType\":\"tensor\",\"objectIndex\":1})\n",
    "print (socket.recv_string())\n",
    "print (\"Weights After Training:\")\n",
    "socket.send_json({\"functionCall\":\"print\",\"objectType\":\"tensor\",\"objectIndex\":2})\n",
    "print (socket.recv_string())"
   ]
  },
  {
   "cell_type": "code",
   "execution_count": null,
   "metadata": {},
   "outputs": [],
   "source": []
  },
  {
   "cell_type": "code",
   "execution_count": null,
   "metadata": {},
   "outputs": [],
   "source": []
  }
 ],
 "metadata": {
  "kernelspec": {
   "display_name": "openmined",
   "language": "python",
   "name": "openmined"
  },
  "language_info": {
   "codemirror_mode": {
    "name": "ipython",
    "version": 3
   },
   "file_extension": ".py",
   "mimetype": "text/x-python",
   "name": "python",
   "nbconvert_exporter": "python",
   "pygments_lexer": "ipython3",
   "version": "3.6.2"
  }
 },
 "nbformat": 4,
 "nbformat_minor": 2
}
